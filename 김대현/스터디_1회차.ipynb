{
  "nbformat": 4,
  "nbformat_minor": 0,
  "metadata": {
    "colab": {
      "name": "스터디 1회차",
      "provenance": [],
      "collapsed_sections": [],
      "include_colab_link": true
    },
    "kernelspec": {
      "name": "python3",
      "display_name": "Python 3"
    },
    "language_info": {
      "name": "python"
    }
  },
  "cells": [
    {
      "cell_type": "markdown",
      "metadata": {
        "id": "view-in-github",
        "colab_type": "text"
      },
      "source": [
        "<a href=\"https://colab.research.google.com/github/ihr1268/python-study-1/blob/main/%EA%B9%80%EB%8C%80%ED%98%84/%EC%8A%A4%ED%84%B0%EB%94%94_1%ED%9A%8C%EC%B0%A8.ipynb\" target=\"_parent\"><img src=\"https://colab.research.google.com/assets/colab-badge.svg\" alt=\"Open In Colab\"/></a>"
      ]
    },
    {
      "cell_type": "code",
      "execution_count": 2,
      "metadata": {
        "id": "1usSgr31Sk5h",
        "colab": {
          "base_uri": "https://localhost:8080/"
        },
        "outputId": "9c6b5474-57e3-4955-dff6-4e7d60e5aed9"
      },
      "outputs": [
        {
          "output_type": "stream",
          "name": "stdout",
          "text": [
            "3\n",
            "im spiderman\n"
          ]
        }
      ],
      "source": [
        "a=1\n",
        "b=2\n",
        "\n",
        "print(a+b)\n",
        "\n",
        "print(\"im spiderman\")"
      ]
    },
    {
      "cell_type": "code",
      "source": [
        ""
      ],
      "metadata": {
        "id": "BCjgPLXonnEJ"
      },
      "execution_count": null,
      "outputs": []
    },
    {
      "cell_type": "markdown",
      "source": [
        "# 안녕\n"
      ],
      "metadata": {
        "id": "iRcLkryfUAz_"
      }
    }
  ]
}